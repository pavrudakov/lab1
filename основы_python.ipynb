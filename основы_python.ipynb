{
  "cells": [
    {
      "cell_type": "markdown",
      "metadata": {
        "id": "M-DGa20PaHnu"
      },
      "source": [
        "#Задача 1\n",
        "Написать функцию на вход которой подается строка, состоящая из латинских букв.\n",
        "Функция должна вернуть количество гласных букв (a, e, i, o, u) в этой строке. Написать тесты для кода"
      ]
    },
    {
      "cell_type": "code",
      "execution_count": 11,
      "metadata": {
        "id": "XvX8X_JJ6PCb"
      },
      "outputs": [],
      "source": [
        "def count_vowels(s):\n",
        "    vowels = 'aeiou'\n",
        "    return sum(1 for char in s if char in vowels)\n",
        "\n",
        "def test_count_vowels():\n",
        "    assert count_vowels('python') == 1\n",
        "    assert count_vowels('computer') == 3\n",
        "\n",
        "def test_empty_string():\n",
        "    assert count_vowels('') == 0\n",
        "\n",
        "def test_count_no_vowels():\n",
        "    assert count_vowels('zxc') == 0\n",
        "\n",
        "test_count_vowels()\n",
        "test_empty_string()\n",
        "test_count_no_vowels()"
      ]
    },
    {
      "cell_type": "markdown",
      "metadata": {
        "id": "t2ClV_Y0bbr6"
      },
      "source": [
        "# Задача 2\n",
        "Написать функцию на вход, которой подается строка. Функция должна вернуть true, если\n",
        "каждый символ в строке встречается только 1 раз, иначе должна вернуть false. Написать тесты для кода"
      ]
    },
    {
      "cell_type": "code",
      "execution_count": 12,
      "metadata": {
        "id": "FppbECao6VIz"
      },
      "outputs": [],
      "source": [
        "def unique_char(s):\n",
        "    new_s = set(s)\n",
        "    if len(new_s) == len(s):\n",
        "        return True\n",
        "    else:\n",
        "        return False\n",
        "\n",
        "def test_unique():\n",
        "    assert unique_char('python') == True\n",
        "    assert unique_char('zizha') == False\n",
        "\n",
        "test_unique()    "
      ]
    },
    {
      "cell_type": "markdown",
      "metadata": {
        "id": "udRiIK1cdt6E"
      },
      "source": [
        "# Задача 3\n",
        "Написать функцию, которая принимает положительное число и возвращает количество\n",
        "бит равных 1 в этом числе. Написать тесты для кода"
      ]
    },
    {
      "cell_type": "code",
      "execution_count": 13,
      "metadata": {
        "id": "6tkfDJRz6dp_"
      },
      "outputs": [],
      "source": [
        "def count_bits(n):\n",
        "    if n < 0:\n",
        "        raise ValueError(\"Input must be a positive integer\")\n",
        "    return bin(n).count('1')\n",
        "\n",
        "def test_count_bits():\n",
        "    assert count_bits(0) == 0\n",
        "    assert count_bits(1) == 1\n",
        "    assert count_bits(255) == 8\n",
        "    assert count_bits(1023) == 10\n",
        "\n",
        "test_count_bits()"
      ]
    },
    {
      "cell_type": "markdown",
      "metadata": {
        "id": "26dDUz-Ae17N"
      },
      "source": [
        "# Задача 4\n",
        "Написать функцию, которая принимает положительное число. Функция должна вернуть то,\n",
        "сколько раз необходимо перемножать цифры числа или результат перемножения, чтобы\n",
        "получилось число состоящее из одной цифры.\n",
        "Например, для входного числа:\n",
        "· 39 функция должна вернуть 3, так как 3*9=27 => 2*7=14 => 1*4=4\n",
        "· 4 функция должна вернуть 0, так как число уже состоит из одной цифры\n",
        "· 999 функция должна вернуть 4, так как 9*9*9=729 => 7*2*9=126 => 1*2*6=12 =>\n",
        "1*2=2. Написать тесты для кода"
      ]
    },
    {
      "cell_type": "code",
      "execution_count": 14,
      "metadata": {
        "id": "BH1A_Mgi6i4G"
      },
      "outputs": [],
      "source": [
        "from functools import reduce\n",
        "\n",
        "def magic(n):\n",
        "    count = 0\n",
        "    while n > 10:\n",
        "        n = reduce(lambda x, y: x * int(y), str(n), 1)\n",
        "        count += 1\n",
        "    return count \n",
        "\n",
        "def test_magic():\n",
        "    assert magic(999) == 4\n",
        "\n",
        "def test_to_ten_magic():\n",
        "    assert magic(4) == 0\n",
        "\n",
        "def test_empty_magic():\n",
        "    assert magic() == None"
      ]
    },
    {
      "cell_type": "markdown",
      "metadata": {
        "id": "0nS-kIa8g8vd"
      },
      "source": [
        "# Задача 5\n",
        "Написать функцию, которая принимает два целочисленных вектора одинаковой длины и\n",
        "возвращает среднеквадратическое отклонение двух векторов. Написать тесты для кода"
      ]
    },
    {
      "cell_type": "code",
      "execution_count": 15,
      "metadata": {
        "id": "8iphx4LM6xbx"
      },
      "outputs": [
        {
          "ename": "AssertionError",
          "evalue": "",
          "output_type": "error",
          "traceback": [
            "\u001b[1;31m---------------------------------------------------------------------------\u001b[0m",
            "\u001b[1;31mAssertionError\u001b[0m                            Traceback (most recent call last)",
            "Cell \u001b[1;32mIn[15], line 18\u001b[0m\n\u001b[0;32m     15\u001b[0m     \u001b[38;5;28;01massert\u001b[39;00m mse([\u001b[38;5;124m'\u001b[39m\u001b[38;5;124ma\u001b[39m\u001b[38;5;124m'\u001b[39m, \u001b[38;5;124m'\u001b[39m\u001b[38;5;124mb\u001b[39m\u001b[38;5;124m'\u001b[39m], [\u001b[38;5;124m'\u001b[39m\u001b[38;5;124ma\u001b[39m\u001b[38;5;124m'\u001b[39m, \u001b[38;5;124m'\u001b[39m\u001b[38;5;124mb\u001b[39m\u001b[38;5;124m'\u001b[39m]) \u001b[38;5;241m==\u001b[39m \u001b[38;5;167;01mValueError\u001b[39;00m\n\u001b[0;32m     17\u001b[0m test_mse()\n\u001b[1;32m---> 18\u001b[0m test_different_mse()\n\u001b[0;32m     19\u001b[0m test_letter_mse()\n",
            "Cell \u001b[1;32mIn[15], line 12\u001b[0m, in \u001b[0;36mtest_different_mse\u001b[1;34m()\u001b[0m\n\u001b[0;32m     11\u001b[0m \u001b[38;5;28;01mdef\u001b[39;00m \u001b[38;5;21mtest_different_mse\u001b[39m():\n\u001b[1;32m---> 12\u001b[0m     \u001b[38;5;28;01massert\u001b[39;00m mse([\u001b[38;5;241m1\u001b[39m, \u001b[38;5;241m2\u001b[39m], [\u001b[38;5;241m1\u001b[39m, \u001b[38;5;241m2\u001b[39m, \u001b[38;5;241m3\u001b[39m]) \u001b[38;5;241m==\u001b[39m \u001b[38;5;167;01mValueError\u001b[39;00m\n",
            "\u001b[1;31mAssertionError\u001b[0m: "
          ]
        }
      ],
      "source": [
        "import unittest\n",
        "\n",
        "def mse(pred, true):\n",
        "    if len(pred) == len(true):\n",
        "        return sum((p - t) ** 2 for p, t in zip(pred, true)) / len(pred)\n",
        "\n",
        "def test_mse():\n",
        "    assert mse([1, 2, 3], [1, 2, 3]) == 0\n",
        "    assert mse([1, 2, 3], [4, 5, 6]) == 9\n",
        "\n",
        "def test_different_mse():\n",
        "    assert mse([1, 2], [1, 2, 3]) == ValueError\n",
        "\n",
        "def test_letter_mse():\n",
        "    assert mse(['a', 'b'], ['a', 'b']) == ValueError\n",
        "\n",
        "test_mse()\n",
        "test_different_mse()\n",
        "test_letter_mse()\n"
      ]
    },
    {
      "cell_type": "markdown",
      "metadata": {
        "id": "vpIPKL439zkw"
      },
      "source": [
        "# Задача 6\n",
        "Написать функцию, принимающая целое положительное число. Функция должна вернуть\n",
        "строку вида “(n1**p1)(n2**p2)…(nk**pk)” представляющая разложение числа на простые\n",
        "множители (если pi == 1, то выводить только ni).\n",
        "Например, для числа 86240 функция должна вернуть “(2**5)(5)(7**2)(11)”. Написать тесты для кода"
      ]
    },
    {
      "cell_type": "code",
      "execution_count": 1,
      "metadata": {
        "id": "pFebmcZk94Jw"
      },
      "outputs": [],
      "source": [
        "def prime_factorization(n):\n",
        "    if n < 1:\n",
        "        raise ValueError(\"Input must be a positive integer.\")\n",
        "    \n",
        "    factors = []\n",
        "    \n",
        "    count = 0\n",
        "    while n % 2 == 0:\n",
        "        count += 1\n",
        "        n //= 2\n",
        "    if count > 0:\n",
        "        factors.append(f\"(2**{count})\" if count > 1 else \"(2)\")\n",
        "    \n",
        "    for i in range(3, int(n**0.5) + 1, 2):\n",
        "        count = 0\n",
        "        while n % i == 0:\n",
        "            count += 1\n",
        "            n //= i\n",
        "        if count > 0:\n",
        "            factors.append(f\"({i}**{count})\" if count > 1 else f\"({i})\")\n",
        "    \n",
        "    if n > 2:\n",
        "        factors.append(f\"({n})\")\n",
        "    \n",
        "    return ''.join(factors)\n",
        "\n",
        "def test_prime_factorization():\n",
        "    assert prime_factorization(86240) == \"(2**5)(5)(7)(11)\"\n",
        "    assert prime_factorization(28) == \"(2**2)(7)\"\n",
        "    assert prime_factorization(60) == \"(2**2)(3)(5)\"\n",
        "    assert prime_factorization(1) == \"\"\n",
        "    assert prime_factorization(97) == \"(97)\"\n",
        "    assert prime_factorization(100) == \"(2**2)(5**2)\""
      ]
    },
    {
      "cell_type": "markdown",
      "metadata": {
        "id": "ps2s0BudX7A2"
      },
      "source": [
        "# Задача 7\n",
        "Написать функцию, принимающая целое число n, задающее количество кубиков. Функция\n",
        "должна определить, можно ли из данного кол-ва кубиков построить пирамиду, то есть\n",
        "можно ли представить число n как 1^2+2^2+3^2+…+k^2. Если можно, то функция должна\n",
        "вернуть k, иначе строку “It is impossible”. Написать тесты для кода"
      ]
    },
    {
      "cell_type": "code",
      "execution_count": 8,
      "metadata": {
        "id": "3YPjEXxhX_YT"
      },
      "outputs": [],
      "source": [
        "def pyramid(n):\n",
        "    if n < 1:\n",
        "        return 'It is impossible'\n",
        "    k = 1\n",
        "    total_cubes = 0\n",
        "    while total_cubes < n:\n",
        "        total_cubes += k**2\n",
        "        if total_cubes == n:\n",
        "            return k\n",
        "        k += 1\n",
        "    return 'It is impossible'\n",
        "\n",
        "def test_pyramid():\n",
        "    assert pyramid(14) == 3\n",
        "    assert pyramid(91) == 6\n",
        "    assert pyramid(4) == 'It is impossible'\n",
        "\n",
        "test_pyramid()\n",
        "\n",
        "\n"
      ]
    },
    {
      "cell_type": "markdown",
      "metadata": {
        "id": "KeKgmIdAQMEJ"
      },
      "source": [
        "# Задача 8\n",
        "Функция принимает на вход положительное число и определяет является ли оно сбалансированным, т.е. сумма цифр до средних равна сумме цифр после. Средними в случае нечетного числа цифр считать одну цифру, в случае четного - две средних. Написать тесты для кода"
      ]
    },
    {
      "cell_type": "code",
      "execution_count": 1,
      "metadata": {
        "id": "gMAAqtqlQrZt"
      },
      "outputs": [],
      "source": [
        "def is_balanced(number):\n",
        "    str_num = str(number)\n",
        "    length = len(str_num)\n",
        "    \n",
        "    if length % 2 == 0:\n",
        "        mid1 = length // 2 - 1\n",
        "        mid2 = length // 2\n",
        "        left_sum = sum(int(digit) for digit in str_num[:mid1 + 1])\n",
        "        right_sum = sum(int(digit) for digit in str_num[mid2:])\n",
        "    else:\n",
        "        mid = length // 2\n",
        "        left_sum = sum(int(digit) for digit in str_num[:mid])\n",
        "        right_sum = sum(int(digit) for digit in str_num[mid + 1:])\n",
        "    \n",
        "    return left_sum == right_sum\n",
        "\n",
        "def test_is_balanced():\n",
        "    assert is_balanced(123321) == True\n",
        "    assert is_balanced(12345) == False\n",
        "    assert is_balanced(0) == True\n",
        "    assert is_balanced(1001) == True\n",
        "    assert is_balanced(123456789) == False\n",
        "\n",
        "test_is_balanced()\n"
      ]
    }
  ],
  "metadata": {
    "colab": {
      "provenance": []
    },
    "kernelspec": {
      "display_name": "base",
      "language": "python",
      "name": "python3"
    },
    "language_info": {
      "codemirror_mode": {
        "name": "ipython",
        "version": 3
      },
      "file_extension": ".py",
      "mimetype": "text/x-python",
      "name": "python",
      "nbconvert_exporter": "python",
      "pygments_lexer": "ipython3",
      "version": "3.12.4"
    }
  },
  "nbformat": 4,
  "nbformat_minor": 0
}
