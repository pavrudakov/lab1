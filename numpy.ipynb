{
  "cells": [
    {
      "cell_type": "markdown",
      "metadata": {
        "id": "vC84e9kzyxPy"
      },
      "source": [
        "<h1>Импорт библиотек"
      ]
    },
    {
      "cell_type": "code",
      "execution_count": 1,
      "metadata": {
        "id": "cgKeNegmQG5S"
      },
      "outputs": [],
      "source": [
        "import numpy as np\n",
        "import matplotlib.pyplot as plt"
      ]
    },
    {
      "cell_type": "markdown",
      "metadata": {
        "id": "qFM9uVU2x4Ls"
      },
      "source": [
        "<h1>Задача 1. Дан набор из $p$ матриц размерностью $(n, n)$ и $p$ векторов размерностью $(n, 1)$, найти сумму произведений матриц на векторы. Написать тесты для кода"
      ]
    },
    {
      "cell_type": "code",
      "execution_count": 2,
      "metadata": {
        "id": "IAbUvEiYyWFF"
      },
      "outputs": [
        {
          "name": "stdout",
          "output_type": "stream",
          "text": [
            "Все тесты пройдены\n"
          ]
        }
      ],
      "source": [
        "import numpy as np\n",
        "\n",
        "def sum_prod(X, V):\n",
        "    result = np.zeros((X[0].shape[0], 1))\n",
        "\n",
        "    for matrix, vector in zip(X, V):\n",
        "        result += np.dot(matrix, vector)\n",
        "\n",
        "    return result\n",
        "\n",
        "def test_sum_prod():\n",
        "    X1 = [np.array([[1, 2], [3, 4]])]\n",
        "    V1 = [np.array([[1], [1]])]\n",
        "    expected1 = np.array([[3], [7]])\n",
        "    assert np.array_equal(sum_prod(X1, V1), expected1), \"Тест 1 не пройден\"\n",
        "\n",
        "    print(\"Все тесты пройдены\")\n",
        "\n",
        "test_sum_prod()"
      ]
    },
    {
      "cell_type": "markdown",
      "metadata": {
        "id": "TKwPG4fIy2w4"
      },
      "source": [
        "<h1>Задача 2. Дана матрица M, напишите функцию, которая бинаризует матрицу по некоторому threshold (то есть, все значения большие threshold становятся равными 1, иначе 0). Напишите тесты для кода"
      ]
    },
    {
      "cell_type": "code",
      "execution_count": 3,
      "metadata": {
        "id": "KQDNMgsjRNH7"
      },
      "outputs": [
        {
          "name": "stdout",
          "output_type": "stream",
          "text": [
            "Тесты пройдены!\n"
          ]
        }
      ],
      "source": [
        "import numpy as np\n",
        "\n",
        "def binarize(M, threshold=0.5):\n",
        "    return (M > threshold).astype(int)\n",
        "\n",
        "def test_binarize():\n",
        "    M = np.array([[0.2, 0.6], [0.4, 0.8]])\n",
        "    threshold = 0.5\n",
        "    expected = np.array([[0, 1], [0, 1]])\n",
        "    result = binarize(M, threshold)\n",
        "    \n",
        "    assert np.array_equal(result, expected), \"Тест не пройден\"\n",
        "    print(\"Тесты пройдены!\")\n",
        "\n",
        "test_binarize()\n"
      ]
    },
    {
      "cell_type": "markdown",
      "metadata": {
        "id": "IY5L-h-7zWhN"
      },
      "source": [
        "<h1>Задача 3. Напишите функцию, которая возвращает уникальные элементы из каждой строки матрицы. Напишите такую же функцию, но для столбцов. Напишите тесты для кода"
      ]
    },
    {
      "cell_type": "code",
      "execution_count": 4,
      "metadata": {
        "id": "-8dEZhR0SBC-"
      },
      "outputs": [
        {
          "name": "stdout",
          "output_type": "stream",
          "text": [
            "Все тесты пройдены!\n"
          ]
        }
      ],
      "source": [
        "import numpy as np\n",
        "\n",
        "def unique_rows(mat):\n",
        "    unique_elements = []\n",
        "    for row in mat:\n",
        "        unique_elements.append(np.unique(row))\n",
        "    return unique_elements\n",
        "\n",
        "def unique_columns(mat):\n",
        "    unique_elements = []\n",
        "    for col in mat.T:\n",
        "        unique_elements.append(np.unique(col))\n",
        "    return unique_elements\n",
        "\n",
        "def test_unique_functions():\n",
        "    mat = np.array([[1, 2, 2], [3, 4, 4], [1, 2, 3]])\n",
        "    \n",
        "    expected_unique_rows = [np.array([1, 2]), np.array([3, 4]), np.array([1, 2, 3])]\n",
        "    expected_unique_columns = [np.array([1, 3]), np.array([2, 4]), np.array([2, 3, 4])]\n",
        "\n",
        "    \n",
        "    result_unique_rows = unique_rows(mat)\n",
        "    result_unique_columns = unique_columns(mat)\n",
        "    \n",
        "    for i in range(len(expected_unique_rows)):\n",
        "        assert np.array_equal(result_unique_rows[i], expected_unique_rows[i]), f\"Тест {i+1} на уникальные ряды не пройден\"\n",
        "    \n",
        "    for i in range(len(expected_unique_columns)):\n",
        "        assert np.array_equal(result_unique_columns[i], expected_unique_columns[i]), f\"Тест {i+1} на уникальные колонны не пройден\"\n",
        "\n",
        "    print(\"Все тесты пройдены!\")\n",
        "\n",
        "test_unique_functions()\n",
        "\n"
      ]
    },
    {
      "cell_type": "markdown",
      "metadata": {
        "id": "roYAlo4Jz-lH"
      },
      "source": [
        "<h1>Задача 4. Напишите функцию, которая заполняет матрицу с размерами $(m, n)$ случайными числами, распределенными по нормальному закону. Затем считает мат. ожидание и дисперсию для каждого из столбцов и строк, а также строит для каждой строки и столбца гистограмму значений (использовать функцию hist из модуля matplotlib.plot)"
      ]
    },
    {
      "cell_type": "code",
      "execution_count": 5,
      "metadata": {
        "id": "nZK_71hMSQzv"
      },
      "outputs": [
        {
          "name": "stdout",
          "output_type": "stream",
          "text": [
            "Все тесты пройдены\n"
          ]
        }
      ],
      "source": [
        "def chess(m, n, a, b):\n",
        "    matrix = np.zeros((m, n), dtype=int)\n",
        "    for i in range(m):\n",
        "        for j in range(n):\n",
        "            if (i + j) % 2 == 0:\n",
        "                matrix[i, j] = a\n",
        "            else:\n",
        "                matrix[i, j] = b\n",
        "    \n",
        "    return matrix\n",
        "\n",
        "# тесты\n",
        "def test_chess():\n",
        "    result1 = chess(2, 2, 1, 0)\n",
        "    expected1 = np.array([[1, 0], [0, 1]])  \n",
        "    assert np.array_equal(result1, expected1), \"Тест не пройден\"\n",
        "\n",
        "    result2 = chess(3, 3, 1, 0)\n",
        "    expected2 = np.array([[1, 0, 1], [0, 1, 0], [1, 0, 1]])  \n",
        "    assert np.array_equal(result2, expected2), \"Тест не пройден\"\n",
        "    \n",
        "# запуск тестов\n",
        "test_chess()\n",
        "print(\"Все тесты пройдены\")"
      ]
    },
    {
      "cell_type": "markdown",
      "metadata": {
        "id": "BDyATNdM0dJ2"
      },
      "source": [
        "<h1>Задача 5. Напишите функцию, которая заполняет матрицу $(m, n)$ в шахматном порядке заданными числами $a$ и $b$. Напишите тесты для кода"
      ]
    },
    {
      "cell_type": "code",
      "execution_count": 6,
      "metadata": {
        "id": "RWNJYWQGecS6"
      },
      "outputs": [
        {
          "name": "stdout",
          "output_type": "stream",
          "text": [
            "Все тесты пройдены\n"
          ]
        }
      ],
      "source": [
        "def chess(m, n, a, b):\n",
        "    matrix = np.zeros((m, n), dtype=int)\n",
        "    for i in range(m):\n",
        "        for j in range(n):\n",
        "            if (i + j) % 2 == 0:\n",
        "                matrix[i, j] = a\n",
        "            else:\n",
        "                matrix[i, j] = b\n",
        "    \n",
        "    return matrix\n",
        "\n",
        "def test_chess():\n",
        "    result1 = chess(2, 2, 1, 0)\n",
        "    expected1 = np.array([[1, 0], [0, 1]])  \n",
        "    assert np.array_equal(result1, expected1), \"Тест не пройден\"\n",
        "\n",
        "    result2 = chess(3, 3, 1, 0)\n",
        "    expected2 = np.array([[1, 0, 1], [0, 1, 0], [1, 0, 1]])  \n",
        "    assert np.array_equal(result2, expected2), \"Тест не пройден\"\n",
        "    \n",
        "test_chess()\n",
        "print(\"Все тесты пройдены\")\n"
      ]
    },
    {
      "cell_type": "markdown",
      "metadata": {
        "id": "-ymXLtTN0vB6"
      },
      "source": [
        "<h1>Задача 6. Напишите функцию, которая отрисовывает прямоугольник с заданными размерами (a, b) на изображении размера (m, n), цвет фона задайте в схеме RGB, как и цвет прямоугольника. Цвета также должны быть параметрами функции. Напишите аналогичную функцию но для овала с полуосями a и b. Напишите тесты для кода.\n",
        "Примечание: уравнение эллипса (границы овала) можно записать как:\n",
        "<h1>$\\frac{(x-x_0)^2}{a^2}+\\frac{(y-y_0)^2}{b^2}=1$"
      ]
    },
    {
      "cell_type": "code",
      "execution_count": 7,
      "metadata": {
        "id": "sNfl1t_kfOF4"
      },
      "outputs": [],
      "source": [
        "def draw_rectangle(a, b, m, n, rectangle_color, background_color):\n",
        "    img = np.ones((m, n, 3)) * background_color\n",
        "    img[:a, :b] = rectangle_color\n",
        "    plt.imshow(img)\n",
        "    plt.show()\n",
        "\n",
        "def draw_ellipse(a, b, m, n, ellipse_color, background_color):\n",
        "    y, x = np.ogrid[:m, :n]\n",
        "    mask = ((x - n/2)**2 / a**2 + (y - m/2)**2 / b**2) <= 1\n",
        "    img = np.ones((m, n, 3)) * background_color\n",
        "    img[mask] = ellipse_color\n",
        "    plt.imshow(img)\n",
        "    plt.show()"
      ]
    },
    {
      "cell_type": "markdown",
      "metadata": {
        "id": "S82c38oz244H"
      },
      "source": [
        "<h1>Задача 7. Дан некий временной ряд. Для данного ряда нужно найти его: математическое ожидание, дисперсию, СКО, найти все локальные максимумы и минимумы (локальный максимум - это точка, которая больше своих соседних точек, а локальный минимум - это точка, которая меньше своих соседей), а также вычислить для данного ряда другой ряд, получаемый методом скользящего среднего с размером окна $p$.\n",
        "<h1>Примечание: метод скользящего среднего подразумевает нахождение среднего из подмножетсва ряда размером $p$"
      ]
    },
    {
      "cell_type": "code",
      "execution_count": 8,
      "metadata": {
        "id": "Zb9mIVge5MMt"
      },
      "outputs": [
        {
          "name": "stdout",
          "output_type": "stream",
          "text": [
            "(3.0, 5.2, 2.280350850198276, array([2, 5, 8], dtype=int64), array([3, 6], dtype=int64), array([3.66666667, 3.66666667, 3.33333333, 3.        , 2.66666667,\n",
            "       2.33333333, 2.        , 3.33333333]))\n"
          ]
        }
      ],
      "source": [
        "def analyze_series(series, window_size):\n",
        "    mean = np.mean(series)\n",
        "    var = np.var(series)\n",
        "    std = np.std(series)\n",
        "    \n",
        "    local_max = (np.diff(np.sign(np.diff(series))) < 0).nonzero()[0] + 1\n",
        "    local_min = (np.diff(np.sign(np.diff(series))) > 0).nonzero()[0] + 1\n",
        "    \n",
        "    moving_avg = np.convolve(series, np.ones(window_size) / window_size, mode='valid')\n",
        "    \n",
        "    return mean, var, std, local_max, local_min, moving_avg\n",
        "\n",
        "series = np.array([1, 3, 7, 1, 2, 6, 0, 1, 5, 4])\n",
        "result = analyze_series(series, 3)\n",
        "print(result)\n",
        "     "
      ]
    },
    {
      "cell_type": "markdown",
      "metadata": {
        "id": "jPkylmOX5O9n"
      },
      "source": [
        "<h1> Задача 8. Дан некоторый вектор с целочисленными метками классов, напишите функцию, которая выполняет one-hot-encoding для данного вектора\n",
        "<h1> One-hot-encoding - представление, в котором на месте метки некоторого класса стоит 1, в остальных позициях стоит 0. Например для вектора [0, 2, 3, 0] one-hot-encoding выглядит как: [[1, 0, 0, 0], [0, 0, 1, 0], [0, 0, 0, 1], [1, 0, 0, 0]]"
      ]
    },
    {
      "cell_type": "code",
      "execution_count": 9,
      "metadata": {
        "id": "Y-jlnZvw56lD"
      },
      "outputs": [],
      "source": [
        "def one_hot_encoding(labels):\n",
        "    n_classes = np.max(labels) + 1\n",
        "    return np.eye(n_classes)[labels]\n",
        "\n",
        "def test_one_hot_encoding():\n",
        "    labels = np.array([0, 2, 3, 0])\n",
        "    result = one_hot_encoding(labels)\n",
        "    expected = np.array([[1, 0, 0, 0], [0, 0, 1, 0], [0, 0, 0, 1], [1, 0, 0, 0]])\n",
        "    assert np.all(result == expected)\n",
        "\n",
        "test_one_hot_encoding()"
      ]
    }
  ],
  "metadata": {
    "colab": {
      "provenance": []
    },
    "kernelspec": {
      "display_name": "base",
      "language": "python",
      "name": "python3"
    },
    "language_info": {
      "codemirror_mode": {
        "name": "ipython",
        "version": 3
      },
      "file_extension": ".py",
      "mimetype": "text/x-python",
      "name": "python",
      "nbconvert_exporter": "python",
      "pygments_lexer": "ipython3",
      "version": "3.12.4"
    }
  },
  "nbformat": 4,
  "nbformat_minor": 0
}
